{
 "cells": [
  {
   "cell_type": "markdown",
   "id": "06931a84",
   "metadata": {},
   "source": [
    "# Condições no Python -> If\n",
    "## Estrutura:\n",
    "### Uso mais simples:"
   ]
  },
  {
   "cell_type": "code",
   "execution_count": null,
   "id": "e6d53384",
   "metadata": {},
   "outputs": [],
   "source": [
    "if condição:\n",
    "    o que fazer caso a condição seja verdadeira\n",
    "    outra coisa\n",
    "    outra coisa\n",
    "alguma outa coisa"
   ]
  },
  {
   "cell_type": "markdown",
   "id": "b71d42ac",
   "metadata": {},
   "source": [
    "## Exemplo Real (informações 100% hipotéticas e inventadas):<br>\n",
    "Digamos que você trabalha na Amazon (que tem centenas de milhares, se não milhões de produtos) e está analisando o resultado de vendas dos produtos.\n",
    "\n",
    "Você precisa criar um programa que vai analisar o resultado de vendas dos produtos da Amazon em um mês. Para simplificar vamos pensar em um único produto: um Iphone.\n",
    "\n",
    "Meta de Vendas do Iphone = 50.000 unidades<br>\n",
    "Quantidade vendida no Mês = 65.300 unidades\n",
    "\n",
    "O seu programa deve avisar (usaremos o print por enquanto) caso o produto tenha batido a meta do mês. Então devemos fazer:\n",
    "\n",
    "- Caso o produto tenha batido a meta, devemos exibir a mensagem: \"Batemos a meta de vendas de Iphone, vendemos {} unidades\"<br>\n",
    "- Se ele não bateu a meta do mês, o seu programa não deve fazer nada"
   ]
  },
  {
   "cell_type": "code",
   "execution_count": 3,
   "id": "507344ae",
   "metadata": {},
   "outputs": [
    {
     "name": "stdout",
     "output_type": "stream",
     "text": [
      "Batemos a meta de vendas de Iphone, vendemos 65300 unidades\n"
     ]
    }
   ],
   "source": [
    "meta = 50000\n",
    "qtdeVm = 65300\n",
    "\n",
    "if qtdeVm > meta:\n",
    "    print('Batemos a meta de vendas de Iphone, vendemos {} unidades'.format(qtdeVm))"
   ]
  },
  {
   "cell_type": "markdown",
   "id": "206fb384",
   "metadata": {},
   "source": [
    "## Tratando a condição falsa:\n",
    "Quando usamos o if, nem sempre queremos apenas analisar o caso verdadeiro, em boa parte das vezes queremos fazer alguma coisa caso a condição seja verdadeira e fazer outra coisa caso a condição seja falsa.\n",
    "\n",
    "Nesse caso usaremos:"
   ]
  },
  {
   "cell_type": "code",
   "execution_count": null,
   "id": "bfee973e",
   "metadata": {},
   "outputs": [],
   "source": [
    "if condição:\n",
    "    o que fazer caso a condição seja verdadeira\n",
    "else:\n",
    "    o que fazer caso a condição seja falsa"
   ]
  },
  {
   "cell_type": "markdown",
   "id": "2419df7d",
   "metadata": {},
   "source": [
    "Voltando ao nosso Exemplo Real da Amazon e do Iphone, agora nossa programa deve avisar nos 2 casos:\n",
    "\n",
    "- Caso o produto tenha batido a meta, devemos exibir a mensagem: \"Batemos a meta de vendas de Iphone, vendemos {} unidades\"<br>\n",
    "- Se ele não bateu a meta do mês, devemos exibir a mensagem: \"Infelizmente não batemos a meta, vendemos {} unidades. A meta era de {} unidades\""
   ]
  },
  {
   "cell_type": "code",
   "execution_count": 6,
   "id": "b1d799f0",
   "metadata": {},
   "outputs": [
    {
     "name": "stdout",
     "output_type": "stream",
     "text": [
      "Batemos a meta de vendas de Iphone, vendemos 65300 unidades\n"
     ]
    }
   ],
   "source": [
    "# Verdadeira - True\n",
    "meta = 50000\n",
    "qtdeVm = 65300\n",
    "\n",
    "if qtdeVm > meta:\n",
    "    print('Batemos a meta de vendas de Iphone, vendemos {} unidades'.format(qtdeVm))\n",
    "else:\n",
    "    print('Infelizmente não batemos a meta, vedemos {} unidades. A meta era de {} unidades'.format(qtdeVm, meta))"
   ]
  },
  {
   "cell_type": "code",
   "execution_count": null,
   "id": "bb447984",
   "metadata": {},
   "outputs": [],
   "source": [
    "# Falsa - False\n",
    "\n",
    "qtdeVm = 200\n",
    "\n",
    "if qtdeVm > meta:\n",
    "    print('Batemos a meta de vendas de Iphone, vendemos {} unidades'.format(qtdeVm))\n",
    "else:\n",
    "    print('Infelizmente não batemos a meta, vedemos {} unidades. A meta era de {} unidades'.format(qtdeVm, meta))"
   ]
  }
 ],
 "metadata": {
  "kernelspec": {
   "display_name": "Python 3 (ipykernel)",
   "language": "python",
   "name": "python3"
  },
  "language_info": {
   "codemirror_mode": {
    "name": "ipython",
    "version": 3
   },
   "file_extension": ".py",
   "mimetype": "text/x-python",
   "name": "python",
   "nbconvert_exporter": "python",
   "pygments_lexer": "ipython3",
   "version": "3.9.12"
  }
 },
 "nbformat": 4,
 "nbformat_minor": 5
}

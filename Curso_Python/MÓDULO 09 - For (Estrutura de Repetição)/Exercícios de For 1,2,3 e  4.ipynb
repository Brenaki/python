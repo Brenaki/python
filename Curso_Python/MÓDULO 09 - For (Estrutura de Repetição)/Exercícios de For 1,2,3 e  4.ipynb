{
 "cells": [
  {
   "cell_type": "markdown",
   "metadata": {},
   "source": [
    "# Exercícios\n",
    "\n",
    "## 1. Criando um Registro de Hóspedes\n",
    "\n",
    "Digamos que você está criando o sistema para registrar a chegada de hóspedes em um hotel. No hotel, os hóspedes podem ter quartos com 1, 2, 3 e 4 pessoas. Seu sistema deve conseguir:\n",
    "\n",
    "1. Identificar quantas pessoas o hóspede que acabou de chegar vai ter no quarto (perguntando por meio de input)\n",
    "2. De acordo com a quantidade de pessoas do hóspede, ele deve fazer um for para perguntar o cpf e o nome de cada pessoa, a fim de registrá-la no quarto (2 inputs para cada pessoa, 1 para o cpf e outro para o nome)\n",
    "3. O seu programa então deve gerar uma lista com todas as pessoas que ficarão no quarto em que cada item dessa lista é o nome da pessoa e o cpf da pessoa, assim:"
   ]
  },
  {
   "cell_type": "raw",
   "metadata": {},
   "source": [
    "quarto = [\n",
    "    ['João', 'cpf:00000000000'],\n",
    "    ['Julia', 'cpf:11111111111'],\n",
    "    ['Marcus', 'cpf:22222222222'],\n",
    "    ['Maria', 'cpf:33333333333'],\n",
    "]"
   ]
  },
  {
   "cell_type": "markdown",
   "metadata": {},
   "source": [
    "- Para simplificar, não vamos nos preocupar com possibilidades de \"tentar colocar mais de 1 hóspede, digitar o cpf errado, etc. Nosso objetivo é treinar a criação de uma rotina de cadastro"
   ]
  },
  {
   "cell_type": "code",
   "execution_count": 8,
   "metadata": {},
   "outputs": [],
   "source": [
    "#seu código aqui\n",
    "quarto = [[],[],[],[]]\n",
    "\n",
    "for i in range(3):\n",
    "    name = input('Nome: ')\n",
    "    cpf = input('CPF: ')\n",
    "    quarto[i].append(name)\n",
    "    quarto[i].append(cpf)\n",
    "    print(quarto)"
   ]
  },
  {
   "cell_type": "code",
   "execution_count": 17,
   "metadata": {
    "scrolled": true
   },
   "outputs": [
    {
     "name": "stdout",
     "output_type": "stream",
     "text": [
      "Quantas pessoas terão no quarto?\n",
      "1\n",
      "Qual o nome: Victor\n",
      "Qual o CPF: 00000000000\n",
      "[['Victor', 'cpf:00000000000']]\n"
     ]
    }
   ],
   "source": [
    "#lira\n",
    "qtde_P = int(input('Quantas pessoas terão no quarto?\\n'))\n",
    "quarto = []\n",
    "\n",
    "for i in range(qtde_P):\n",
    "    name = input('Qual o nome: ')\n",
    "    cpf = input('Qual o CPF: ')\n",
    "    hospede = [name, 'cpf:{}'.format(cpf)]\n",
    "    quarto.append(hospede)\n",
    "    \n",
    "print(quarto)"
   ]
  },
  {
   "cell_type": "code",
   "execution_count": 22,
   "metadata": {},
   "outputs": [
    {
     "name": "stdout",
     "output_type": "stream",
     "text": [
      "Quantas pessoas terão no quarto?\n",
      "1\n",
      "Qual o nome: Victor Angelo Legat Cerqueira\n",
      "Qual o CPF: 070.188.639-02\n",
      "[['Victor Angelo Legat Cerqueira', 'cpf:07018863902']]\n"
     ]
    }
   ],
   "source": [
    "# Minhas ideias para melhorar\n",
    "qtde_P = int(input('Quantas pessoas terão no quarto?\\n'))\n",
    "quarto = []\n",
    "\n",
    "for i in range(qtde_P):\n",
    "    name = input('Qual o nome: ')\n",
    "    cpf = input('Qual o CPF: ')\n",
    "    cpf = cpf.strip()\n",
    "    cpf = cpf.replace('.', '')\n",
    "    cpf = cpf.replace('-', '')\n",
    "    if len(cpf) == 11 and cpf.isnumeric:\n",
    "        hospede = [name, 'cpf:{}'.format(cpf)]\n",
    "        quarto.append(hospede)\n",
    "    else:\n",
    "        print('CPF inválido!')\n",
    "    \n",
    "print(quarto)"
   ]
  },
  {
   "cell_type": "markdown",
   "metadata": {},
   "source": [
    "## 2. Análise de Vendas\n",
    "\n",
    "Nesse exercício vamos fazer uma \"análise simples\" de atingimento de Meta.\n",
    "\n",
    "Temos uma lista com os vendedores e os valores de vendas e queremos identificar (printar) quais os vendedores que bateram a meta e qual foi o valor que eles venderam."
   ]
  },
  {
   "cell_type": "code",
   "execution_count": 29,
   "metadata": {},
   "outputs": [
    {
     "name": "stdout",
     "output_type": "stream",
     "text": [
      "João Bateu a meta! Fez 15000 vendas\n",
      "Julia Bateu a meta! Fez 27000 vendas\n",
      "Ana Bateu a meta! Fez 10300 vendas\n"
     ]
    }
   ],
   "source": [
    "meta = 10000\n",
    "vendas = [\n",
    "    ['João', 15000],\n",
    "    ['Julia', 27000],\n",
    "    ['Marcus', 9900],\n",
    "    ['Maria', 3750],\n",
    "    ['Ana', 10300],\n",
    "    ['Alon', 7870],\n",
    "]\n",
    "#seu código aqui\n",
    "\n",
    "for item in vendas:\n",
    "    if item[1] >= meta:\n",
    "        print('{} Bateu a meta! Fez {} vendas'.format(item[0], item[1]))"
   ]
  },
  {
   "cell_type": "markdown",
   "metadata": {},
   "source": [
    "## 3. Comparação com Ano Anterior\n",
    "\n",
    "Digamos que você está analisando as vendas de produtos de um ecommerce e quer identificar quais produtos tiveram no ano de 2020 mais vendas do que no ano de 2019, para reportar isso para a diretoria.\n",
    "\n",
    "Sua resposta pode ser um print de cada produto, qual foi a venda de 2019, a venda de 2020 e o % de crescimento de 2020 para 2019.\n",
    "\n",
    "Lembrando, para calcular o % de crescimento de um produto de um ano para o outro, podemos fazer: (vendas_produto2020/vendas_produto2019 - 1)\n",
    "\n",
    "Dica: lembre do enumerate, ele pode facilitar seu \"for\""
   ]
  },
  {
   "cell_type": "code",
   "execution_count": 44,
   "metadata": {},
   "outputs": [
    {
     "name": "stdout",
     "output_type": "stream",
     "text": [
      "iphone vendeu R$ 558,147 em 2019,\n",
      "R$ 951,642 em 2020 e teve um crecimento de 71%\n",
      "\n",
      "tv vendeu R$ 405,252 em 2019,\n",
      "R$ 787,604 em 2020 e teve um crecimento de 94%\n",
      "\n",
      "máquina de café vendeu R$ 718,654 em 2019,\n",
      "R$ 867,660 em 2020 e teve um crecimento de 21%\n",
      "\n",
      "notebook dell vendeu R$ 422,760 em 2019,\n",
      "R$ 694,913 em 2020 e teve um crecimento de 64%\n",
      "\n",
      "notebook hp vendeu R$ 154,753 em 2019,\n",
      "R$ 539,704 em 2020 e teve um crecimento de 249%\n",
      "\n",
      "microsoft surface vendeu R$ 438,508 em 2019,\n",
      "R$ 667,179 em 2020 e teve um crecimento de 52%\n",
      "\n",
      "webcam vendeu R$ 237,467 em 2019,\n",
      "R$ 295,633 em 2020 e teve um crecimento de 24%\n",
      "\n",
      "caixa de som vendeu R$ 489,705 em 2019,\n",
      "R$ 725,316 em 2020 e teve um crecimento de 48%\n",
      "\n",
      "microfone vendeu R$ 328,311 em 2019,\n",
      "R$ 644,622 em 2020 e teve um crecimento de 96%\n",
      "\n",
      "câmera canon vendeu R$ 591,120 em 2019,\n",
      "R$ 994,303 em 2020 e teve um crecimento de 68%\n",
      "\n"
     ]
    }
   ],
   "source": [
    "produtos = ['iphone', 'galaxy', 'ipad', 'tv', 'máquina de café', 'kindle', 'geladeira', 'adega', 'notebook dell', 'notebook hp', 'notebook asus', 'microsoft surface', 'webcam', 'caixa de som', 'microfone', 'câmera canon']\n",
    "vendas2019 = [558147,712350,573823,405252,718654,531580,973139,892292,422760,154753,887061,438508,237467,489705,328311,591120]\n",
    "vendas2020 = [951642,244295,26964,787604,867660,78830,710331,646016,694913,539704,324831,667179,295633,725316,644622,994303]\n",
    "#seu código aqui\n",
    "\n",
    "for i, produto in enumerate(produtos):\n",
    "    if vendas2020[i] > vendas2019[i]:\n",
    "        crescimento = vendas2020[i] / vendas2019[i] -1\n",
    "        print('{} vendeu R$ {:,} em 2019,\\nR$ {:,} em 2020 e teve um crecimento de {:.0%}\\n'.format(produto, vendas2019[i], vendas2020[i], crescimento))"
   ]
  }
 ],
 "metadata": {
  "kernelspec": {
   "display_name": "Python 3 (ipykernel)",
   "language": "python",
   "name": "python3"
  },
  "language_info": {
   "codemirror_mode": {
    "name": "ipython",
    "version": 3
   },
   "file_extension": ".py",
   "mimetype": "text/x-python",
   "name": "python",
   "nbconvert_exporter": "python",
   "pygments_lexer": "ipython3",
   "version": "3.9.12"
  }
 },
 "nbformat": 4,
 "nbformat_minor": 4
}

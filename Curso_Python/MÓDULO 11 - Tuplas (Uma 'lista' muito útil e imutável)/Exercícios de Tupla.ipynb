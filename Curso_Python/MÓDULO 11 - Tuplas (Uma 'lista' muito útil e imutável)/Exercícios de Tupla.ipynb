{
 "cells": [
  {
   "cell_type": "markdown",
   "metadata": {},
   "source": [
    "# Exercícios\n",
    "\n",
    "São exercícios bem parecidos com os que fizemos com listas. Mas na tupla, podemos não só trabalhar com índices, mas fazer o \"unpacking\" das tuplas, o que pode facilitar nossos códigos.\n",
    "\n",
    "## 1. Análise de Vendas\n",
    "\n",
    "Nesse exercício vamos fazer uma \"análise simples\" de atingimento de Meta.\n",
    "\n",
    "Temos uma lista com os vendedores e os valores de vendas e queremos identificar (printar) quais os vendedores que bateram a meta e qual foi o valor que eles venderam."
   ]
  },
  {
   "cell_type": "code",
   "execution_count": 7,
   "metadata": {},
   "outputs": [
    {
     "name": "stdout",
     "output_type": "stream",
     "text": [
      "O vendedor João bateu a meta! Com 15,000 vendas\n",
      "O vendedor Julia bateu a meta! Com 27,000 vendas\n",
      "O vendedor Ana bateu a meta! Com 10,300 vendas\n"
     ]
    }
   ],
   "source": [
    "meta = 10000\n",
    "vendas = [\n",
    "    ('João', 15000),\n",
    "    ('Julia', 27000),\n",
    "    ('Marcus', 9900),\n",
    "    ('Maria', 3750),\n",
    "    ('Ana', 10300),\n",
    "    ('Alon', 7870),\n",
    "]\n",
    "\n",
    "#seu código aqui\n",
    "# Criando o sistema de repetição\n",
    "for item in vendas:\n",
    "    # Identificando as variaveis\n",
    "    nome, venda = item\n",
    "    # Identificando os vendedores\n",
    "    if venda > meta:\n",
    "        # Printando o resultando\n",
    "        print('O vendedor {} bateu a meta! Com {:2,} vendas'.format(nome, venda))"
   ]
  },
  {
   "cell_type": "markdown",
   "metadata": {},
   "source": [
    "## 2. Comparação com Ano Anterior\n",
    "\n",
    "Digamos que você está analisando as vendas de produtos de um ecommerce e quer identificar quais produtos tiveram no ano de 2020 mais vendas do que no ano de 2019, para reportar isso para a diretoria.\n",
    "\n",
    "Sua resposta pode ser um print de cada produto, qual foi a venda de 2019, a venda de 2020 e o % de crescimento de 2020 para 2019.\n",
    "\n",
    "Lembrando, para calcular o % de crescimento de um produto de um ano para o outro, podemos fazer: (vendas_produto2020/vendas_produto2019 - 1)\n",
    "\n",
    "A lógica da tupla é: (produto, vendas2019, vendas2020)"
   ]
  },
  {
   "cell_type": "code",
   "execution_count": 21,
   "metadata": {},
   "outputs": [
    {
     "name": "stdout",
     "output_type": "stream",
     "text": [
      "iphone teve 558,147 vendas em 2019, 951,642 vendas em 2020. O crescimento de 70.50%\n",
      "\n",
      "tv teve 405,252 vendas em 2019, 787,604 vendas em 2020. O crescimento de 94.35%\n",
      "\n",
      "máquina de café teve 718,654 vendas em 2019, 867,660 vendas em 2020. O crescimento de 20.73%\n",
      "\n",
      "notebook dell teve 422,760 vendas em 2019, 694,913 vendas em 2020. O crescimento de 64.38%\n",
      "\n",
      "notebook hp teve 154,753 vendas em 2019, 539,704 vendas em 2020. O crescimento de 248.75%\n",
      "\n",
      "microsoft surface teve 438,508 vendas em 2019, 667,179 vendas em 2020. O crescimento de 52.15%\n",
      "\n",
      "webcam teve 237,467 vendas em 2019, 295,633 vendas em 2020. O crescimento de 24.49%\n",
      "\n",
      "caixa de som teve 489,705 vendas em 2019, 725,316 vendas em 2020. O crescimento de 48.11%\n",
      "\n",
      "microfone teve 328,311 vendas em 2019, 644,622 vendas em 2020. O crescimento de 96.34%\n",
      "\n",
      "câmera canon teve 591,120 vendas em 2019, 994,303 vendas em 2020. O crescimento de 68.21%\n",
      "\n"
     ]
    }
   ],
   "source": [
    "vendas_produtos = [('iphone', 558147, 951642),\n",
    "                   ('galaxy', 712350, 244295),\n",
    "                   ('ipad', 573823, 26964),\n",
    "                   ('tv', 405252, 787604),\n",
    "                   ('máquina de café', 718654, 867660),\n",
    "                   ('kindle', 531580, 78830),\n",
    "                   ('geladeira', 973139, 710331),\n",
    "                   ('adega', 892292, 646016),\n",
    "                   ('notebook dell', 422760, 694913),\n",
    "                   ('notebook hp', 154753, 539704),\n",
    "                   ('notebook asus', 887061, 324831),\n",
    "                   ('microsoft surface', 438508, 667179),\n",
    "                   ('webcam', 237467, 295633),\n",
    "                   ('caixa de som', 489705, 725316),\n",
    "                   ('microfone', 328311, 644622),\n",
    "                   ('câmera canon', 591120, 994303)]\n",
    "\n",
    "#seu código aqui\n",
    "# Criando o sistema de repetição\n",
    "for item in vendas_produtos:\n",
    "    # Identificando as variaveis \n",
    "    produto, venda2019, venda2020 = item\n",
    "    # Identificando os crescimentos\n",
    "    if venda2020 > venda2019:\n",
    "        # Descobrindo a porcentagem\n",
    "        crescimento = venda2020 / venda2019 - 1\n",
    "        # Resultando de cada produto\n",
    "        print('{} teve {:2,} vendas em 2019, {:2,} vendas em 2020. O crescimento de {:.2%}\\n'.format(produto, venda2019, venda2020, crescimento))"
   ]
  }
 ],
 "metadata": {
  "kernelspec": {
   "display_name": "Python 3 (ipykernel)",
   "language": "python",
   "name": "python3"
  },
  "language_info": {
   "codemirror_mode": {
    "name": "ipython",
    "version": 3
   },
   "file_extension": ".py",
   "mimetype": "text/x-python",
   "name": "python",
   "nbconvert_exporter": "python",
   "pygments_lexer": "ipython3",
   "version": "3.9.12"
  }
 },
 "nbformat": 4,
 "nbformat_minor": 4
}

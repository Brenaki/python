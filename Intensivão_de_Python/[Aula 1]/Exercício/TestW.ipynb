{
 "cells": [
  {
   "cell_type": "code",
   "execution_count": 25,
   "id": "9c2cee5f",
   "metadata": {},
   "outputs": [
    {
     "ename": "SyntaxError",
     "evalue": "invalid syntax (1021000631.py, line 32)",
     "output_type": "error",
     "traceback": [
      "\u001b[1;36m  Input \u001b[1;32mIn [25]\u001b[1;36m\u001b[0m\n\u001b[1;33m    for i >= 10\u001b[0m\n\u001b[1;37m               ^\u001b[0m\n\u001b[1;31mSyntaxError\u001b[0m\u001b[1;31m:\u001b[0m invalid syntax\n"
     ]
    }
   ],
   "source": [
    "import pyautogui as pi\n",
    "import pyperclip as pcp\n",
    "import time\n",
    "\n",
    "# 0 - Nome da pessoa e a mensagem\n",
    "name = input('Digite um nome: ')\n",
    "msg = input('Digite a mensagem desejada:\\n')\n",
    "\n",
    "# 1 - Abrir o OperaGX\n",
    "pi.hotkey('win')\n",
    "pi.write('Opera Gx')\n",
    "time.sleep(2)\n",
    "pyautogui.click(x=214, y=518)\n",
    "time.sleep(8)\n",
    "\n",
    "# 2 - Clicar no icone do whatsapp\n",
    "pi.click(x=18, y=248)\n",
    "time.sleep(10)\n",
    "\n",
    "# 3 - Procurar a pessoa na suas conversas\n",
    "pi.click(x=218, y=108)\n",
    "pcp.copy(name)\n",
    "pi.hotkey('ctrl', 'v')\n",
    "time.sleep(1)\n",
    "pi.click(x=202, y=232)\n",
    "\n",
    "# 4 - Manda a mensagem para essa pessoa\n",
    "pcp.copy(msg)\n",
    "pi.hotkey('ctrl', 'v')\n",
    "pi.hotkey('enter')"
   ]
  },
  {
   "cell_type": "code",
   "execution_count": null,
   "id": "438d6b18",
   "metadata": {},
   "outputs": [],
   "source": []
  },
  {
   "cell_type": "code",
   "execution_count": null,
   "id": "98cc0bb8",
   "metadata": {},
   "outputs": [],
   "source": []
  }
 ],
 "metadata": {
  "kernelspec": {
   "display_name": "Python 3 (ipykernel)",
   "language": "python",
   "name": "python3"
  },
  "language_info": {
   "codemirror_mode": {
    "name": "ipython",
    "version": 3
   },
   "file_extension": ".py",
   "mimetype": "text/x-python",
   "name": "python",
   "nbconvert_exporter": "python",
   "pygments_lexer": "ipython3",
   "version": "3.9.12"
  }
 },
 "nbformat": 4,
 "nbformat_minor": 5
}

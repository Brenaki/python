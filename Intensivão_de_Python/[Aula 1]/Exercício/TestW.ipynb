{
 "cells": [
  {
   "cell_type": "code",
   "execution_count": null,
   "id": "9c2cee5f",
   "metadata": {},
   "outputs": [
    {
     "ename": "",
     "evalue": "",
     "output_type": "error",
     "traceback": [
      "\u001b[1;31mFalha ao iniciar o Kernel. \n",
      "Falha ao iniciar o Kernel \"Python 3.10.0 64-bit\". \r\n",
      "Consulte o <a href='command:jupyter.viewOutput'>log</a> do Jupyter para obter mais detalhes. Cannot read properties of undefined (reading 'makeSettings')"
     ]
    }
   ],
   "source": [
    "import pyautogui as pi\n",
    "import pyperclip as pcp\n",
    "import time\n",
    "\n",
    "# 0 - Nome da pessoa e a mensagem\n",
    "name = input('Digite um nome: ')\n",
    "msg = input('Digite a mensagem desejada:\\n')\n",
    "\n",
    "# 1 - Abrir o OperaGX\n",
    "pi.hotkey('win')\n",
    "pi.write('Opera Gx')\n",
    "time.sleep(2)\n",
    "pyautogui.click(x=214, y=518)\n",
    "time.sleep(8)\n",
    "\n",
    "# 2 - Clicar no icone do whatsapp\n",
    "pi.click(x=18, y=248)\n",
    "time.sleep(10)\n",
    "\n",
    "# 3 - Procurar a pessoa na suas conversas\n",
    "pi.click(x=218, y=108)\n",
    "pcp.copy(name)\n",
    "pi.hotkey('ctrl', 'v')\n",
    "time.sleep(1)\n",
    "pi.click(x=202, y=232)\n",
    "\n",
    "# 4 - Manda a mensagem para essa pessoa\n",
    "pcp.copy(msg)\n",
    "pi.hotkey('ctrl', 'v')\n",
    "pi.hotkey('enter')"
   ]
  }
 ],
 "metadata": {
  "kernelspec": {
   "display_name": "Python 3.10.0 64-bit",
   "language": "python",
   "name": "python3"
  },
  "language_info": {
   "codemirror_mode": {
    "name": "ipython",
    "version": 3
   },
   "file_extension": ".py",
   "mimetype": "text/x-python",
   "name": "python",
   "nbconvert_exporter": "python",
   "pygments_lexer": "ipython3",
   "version": "3.10.0"
  },
  "vscode": {
   "interpreter": {
    "hash": "b8ef79d2180d05f4a512bcff15d6c924ebf46045d8fe850bf2cd5a16a6d59d88"
   }
  }
 },
 "nbformat": 4,
 "nbformat_minor": 5
}

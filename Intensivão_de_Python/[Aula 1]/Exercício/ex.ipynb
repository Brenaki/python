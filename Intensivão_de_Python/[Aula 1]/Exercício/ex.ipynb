import pyautogui
import pyperclip
import time

# Entrar no Sistema
pyautogui.hotkey('ctrl', 't')
pyperclip.copy('https://drive.google.com/drive/folders/149xknr9JvrlEnhNWO49zPcw0PW5icxga?usp=sharing')
pyautogui.hotkey('ctrl', 'v')
pyautogui.press('enter')

# Espera 5 segundos
time.sleep(5)


# Navegar no sistema e encontrar a base de dados
pyautogui.click(x=436, y=275, clicks=2)
time.sleep(3)

# Download da base de dados
pyautogui.click(x=448, y=395)
pyautogui.click(x=1708, y=152)
time.sleep(2)
pyautogui.click(x=1454, y=558)
time.sleep(7)

# Calcular os indicadores
import pandas as pd

tabela = pd.read_excel(r'D:\Downloads\Vendas - Dez.xlsx')
# display(tabela) Jupyter
print(tabela)

quantidade = tabela['Quantidade'].sum()

faturamento = tabela['Valor Final'].sum()

# Entrar no email
pyautogui.hotkey('ctrl', 't')
pyperclip.copy('mail.google.com/mail/u/0/#inbox')
pyautogui.hotkey('ctrl', 'v')
pyautogui.press('enter')
time.sleep(7)

# Mandar um email

# clicar no botão +
pyautogui.click(x=120, y=164)
time.sleep(2)

# escrever o destinatário (para quem eu vou mandar)
pyautogui.write('victor.legat.cerqueira@gmail.com')
pyautogui.press('tab')
pyautogui.press('tab')

# escrever o assunto
pyperclip.copy('Teste')
pyautogui.hotkey('ctrl', 'v')
pyautogui.press('tab')

# escrever o corpo do email
text = f"""
Prezados, bom dia

O faturamento de ontem foi de: R$ {faturamento:,.2f}
A quantidade de produto foi de: {quantidade:,}

Abs
Victor
"""
pyperclip.copy(text)
pyautogui.hotkey('ctrl', 'v')

# enviar o email
pyautogui.hotkey('ctrl', 'enter')

# Usar esse codigo para descobrir a posição do mouse
# time.sleep(5)
# pyautogui.position()
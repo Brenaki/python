# 1 - Importar a base de dados
import pandas as pd

tabela = pd.read_csv('telecom_users.csv')

# informações que não te ajuda te atrapalha

# 2 - Visualizar a base de dados
## Entender as informações que você tem disponível
## Descobrir os erros da base de dados

# excluir coluna inútil
# axis = 0 -> eixo da linha
# axis = 1 -> eixo da coluna
## tabela = tabela.drop('nome', eixo)
tabela = tabela.drop('Unnamed: 0', axis=1)
display(tabela)

# 3 - Tratamento de Dados
## informações do tipo correto
tabela['TotalGasto'] = pd.to_numeric(tabela['TotalGasto'], errors='coerce')

## informações vazias
### colunas vazias
tabela = tabela.dropna(how="all", axis=1)

### linhas vazias
tabela = tabela.dropna(how="any", axis=0)

print(tabela.info())

# 4 - Análise Incial dos dados
## Como estão os cancelamentos? 26%
print(tabela['Churn'].value_counts()) # Mostra o total
print(tabela['Churn'].value_counts(normalize=True)) # Mostra o total fracionado
print(tabela['Churn'].value_counts(normalize=True).map('{:.1%}'.format)) # Mostra o total em porcentagem

# 5 - Descobrir os motivos do cancelamento
import plotly.express as px

for coluna in tabela.columns:
    ## etapa 1: criar o grafico
    grafico = px.histogram(tabela, x=coluna, color='Churn', text_auto=True)
    ## etapa 2: exibe o grafico
    grafico.show()
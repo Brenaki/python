{
 "cells": [
  {
   "cell_type": "code",
   "execution_count": null,
   "id": "ac5fcbeb",
   "metadata": {
    "collapsed": true,
    "scrolled": true
   },
   "outputs": [],
   "source": []
  },
  {
   "cell_type": "code",
   "execution_count": null,
   "id": "3367f82f",
   "metadata": {
    "collapsed": true,
    "scrolled": true
   },
   "outputs": [],
   "source": [
    "# 1 - Entendimento do Desafio\n",
    "# 2 - Entendimento da Área/Empresa\n",
    "# 3 - Extração/Obtenção de Dados\n",
    "\n",
    "import pandas as pd\n",
    "\n",
    "tabela = pd.read_csv('advertising.csv')\n",
    "\n",
    "display(tabela)"
   ]
  },
  {
   "cell_type": "code",
   "execution_count": null,
   "id": "a0d55840",
   "metadata": {
    "collapsed": true,
    "scrolled": true
   },
   "outputs": [],
   "source": [
    "# 4 - Ajuste de Dados(Tratamento/Limpeza)\n",
    "# 5 - Análise Exploratória\n",
    "import seaborn as sns\n",
    "import matplotlib.pyplot as plt\n",
    "\n",
    "## Criar o grafico\n",
    "sns.heatmap(tabela.corr(), cmap=\"Wistia\", annot=True)\n",
    "\n",
    "## Exibir o grafico\n",
    "plt.show()"
   ]
  },
  {
   "cell_type": "code",
   "execution_count": null,
   "id": "d031ea86",
   "metadata": {
    "collapsed": true,
    "scrolled": true
   },
   "outputs": [],
   "source": [
    "# 6 - Modelagem + Algoritmos(A.I, se necessário)\n",
    "\n",
    "## y - quem você quer prever (Vendas)\n",
    "## x - é o resto todo (quem voCê vai usar pra fazer a previsão)\n",
    "\n",
    "x = tabela[['TV', 'Radio', 'Jornal']]\n",
    "y = tabela['Vendas']\n",
    "\n",
    "from sklearn.model_selection import train_test_split\n",
    "\n",
    "x_treino, x_teste, y_treino, y_teste = train_test_split(x, y, test_size=0.3)\n"
   ]
  },
  {
   "cell_type": "code",
   "execution_count": null,
   "id": "850eb300",
   "metadata": {
    "collapsed": true,
    "scrolled": true
   },
   "outputs": [],
   "source": [
    "from sklearn.linear_model import LinearRegression\n",
    "from sklearn.ensemble import RandomForestRegressor\n",
    "\n",
    "## Cria a A.I\n",
    "modelo_regressaolinear = LinearRegression()\n",
    "modelo_arvoredecisao = RandomForestRegressor()\n",
    "\n",
    "## Treina a A.I\n",
    "modelo_regressaolinear.fit(x_treino, y_treino)\n",
    "modelo_arvoredecisao.fit(x_treino, y_treino)"
   ]
  },
  {
   "cell_type": "code",
   "execution_count": null,
   "id": "1f4ba900",
   "metadata": {
    "collapsed": true,
    "scrolled": true
   },
   "outputs": [],
   "source": [
    "## Fazer previsor nos testes\n",
    "\n",
    "previsao_regressaolinear = modelo_regressaolinear.predict(x_teste)\n",
    "previsao_arvoredecisao = modelo_arvoredecisao.predict(x_teste)\n",
    "\n",
    "## Comparar a melhor resposta\n",
    "\n",
    "from sklearn.metrics import r2_score\n",
    "\n",
    "print(r2_score(y_teste, previsao_regressaolinear))\n",
    "print(r2_score(y_teste, previsao_arvoredecisao))"
   ]
  },
  {
   "cell_type": "code",
   "execution_count": null,
   "id": "4e00b99a",
   "metadata": {
    "collapsed": true,
    "scrolled": true
   },
   "outputs": [],
   "source": [
    "# 7 - Interpretção de Resultados\n",
    "\n",
    "tabela_auxiliar = pd.DataFrame()\n",
    "tabela_auxiliar['y_teste'] = y_teste\n",
    "tabela_auxiliar['arvore decisao'] = previsao_arvoredecisao\n",
    "tabela_auxiliar['regresso linear'] = previsao_regressaolinear\n",
    "\n",
    "plt.figure(figsize=(18,6))\n",
    "sns.lineplot(data=tabela_auxiliar)\n",
    "plt.show()"
   ]
  },
  {
   "cell_type": "code",
   "execution_count": null,
   "id": "d3d37a9f",
   "metadata": {
    "collapsed": true,
    "scrolled": true
   },
   "outputs": [],
   "source": [
    "## Como fazer uma nova previsão?\n",
    "### o melhor modelo é a árvore de decisão\n",
    "\n",
    "novos = pd.read_csv('novos.csv')\n",
    "display(novos)"
   ]
  },
  {
   "cell_type": "code",
   "execution_count": null,
   "id": "88d5d62e",
   "metadata": {
    "collapsed": true,
    "scrolled": true
   },
   "outputs": [],
   "source": [
    "print(modelo_arvoredecisao.predict(novos))"
   ]
  },
  {
   "cell_type": "code",
   "execution_count": null,
   "id": "cfb422b2",
   "metadata": {
    "collapsed": true,
    "scrolled": true
   },
   "outputs": [],
   "source": []
  }
 ],
 "metadata": {
  "kernelspec": {
   "display_name": "Python 3 (ipykernel)",
   "language": "python",
   "name": "python3"
  },
  "language_info": {
   "codemirror_mode": {
    "name": "ipython",
    "version": 3
   },
   "file_extension": ".py",
   "mimetype": "text/x-python",
   "name": "python",
   "nbconvert_exporter": "python",
   "pygments_lexer": "ipython3",
   "version": "3.9.12"
  }
 },
 "nbformat": 4,
 "nbformat_minor": 5
}

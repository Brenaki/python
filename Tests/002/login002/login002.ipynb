{
 "cells": [
  {
   "cell_type": "code",
   "execution_count": 86,
   "id": "29e95b72",
   "metadata": {},
   "outputs": [],
   "source": [
    "BD = []\n",
    "def conectar_bd():\n",
    "    # Conetando Banco de dados\n",
    "    import pyodbc\n",
    "\n",
    "    dados_conexao = ('Driver={SQLite3 ODBC Driver};'\n",
    "                    'Server=localhost;'\n",
    "                    'Database=login.db')\n",
    "\n",
    "    try:\n",
    "        conexao = pyodbc.connect(dados_conexao)\n",
    "    except:\n",
    "        print('Não conectou ao Banco de Dados')\n",
    "    \n",
    "    cursor = conexao.cursor()\n",
    "\n",
    "    # Dividindo as informações\n",
    "    cursor.execute('SELECT * FROM login')\n",
    "    valores = cursor.fetchall()\n",
    "    for colunas in valores:\n",
    "        ID, username, password = colunas\n",
    "        BD.append([ID, username, password])\n",
    "    #Fechando o Banco de Dados\n",
    "    cursor.close()\n",
    "    conexao.close()\n",
    "    return BD\n",
    "\n",
    "def login(usuario, senha, BD):\n",
    "    for dados in BD:\n",
    "        if usuario == dados[1] and senha == dados[2]:\n",
    "            return print('{} você está logado'.format(usuario))\n",
    "        else:\n",
    "            pass\n",
    "    return print('Credenciais Inválidas!')\n",
    "    \n",
    "def registrar(usuario, username, senha, password):\n",
    "    for dados in BD:\n",
    "        if usuario != dados[1] and senha != dados[2]:\n",
    "            # Conetando Banco de dados\n",
    "            import pyodbc\n",
    "            dados_conexao = ('Driver={SQLite3 ODBC Driver};'\n",
    "                        'Server=localhost;'\n",
    "                        'Database=login.db')\n",
    "            conexao = pyodbc.connect(dados_conexao)\n",
    "            cursor = conexao.cursor()\n",
    "            # Registrando dados\n",
    "            cursor.execute('''\n",
    "        INSERT INTO Login (User, Password)\n",
    "        VALUES\n",
    "        (\"{}\", \"{}\")\n",
    "        '''.format(usuario, senha))\n",
    "            cursor.commit()\n",
    "            cursor.close()\n",
    "            return print('{} você foi registrado!'.format(usuario))\n",
    "        else:\n",
    "            pass\n",
    "    return print('Usuário já está resgitrado!')"
   ]
  },
  {
   "cell_type": "code",
   "execution_count": 89,
   "id": "fc7dbe30",
   "metadata": {},
   "outputs": [
    {
     "name": "stdout",
     "output_type": "stream",
     "text": [
      "----------------------------Sistema------------------------------------\n",
      "Você deseja se registrar ou fazer login?\n",
      "L(login) ou R(registrar): l\n",
      "Seu nome de usuário: Victor\n",
      "Sua senha: 2005\n",
      "Victor você está logado\n"
     ]
    }
   ],
   "source": [
    "# Conetando BD\n",
    "conectar_bd()\n",
    "    \n",
    "# Sistema de Login e Registro\n",
    "print('----------------------------Sistema------------------------------------')\n",
    "print('Você deseja se registrar ou fazer login?')\n",
    "escolha_login_or_register = input('L(login) ou R(registrar): ')\n",
    "\n",
    "if escolha_login_or_register == 'L' or escolha_login_or_register == 'l':\n",
    "    usuario = input('Seu nome de usuário: ')\n",
    "    senha = input('Sua senha: ')\n",
    "    login(usuario, senha, BD)\n",
    "elif escolha_login_or_register == 'R' or escolha_login_or_register == 'r':\n",
    "    usuario = input('Seu nome de usuário: ')\n",
    "    senha = input('Sua senha: ')\n",
    "    registrar(usuario, senha, BD)\n",
    "else:\n",
    "    print('Error\\n'*20)\n",
    "    \n",
    "BD = []"
   ]
  }
 ],
 "metadata": {
  "kernelspec": {
   "display_name": "Python 3 (ipykernel)",
   "language": "python",
   "name": "python3"
  },
  "language_info": {
   "codemirror_mode": {
    "name": "ipython",
    "version": 3
   },
   "file_extension": ".py",
   "mimetype": "text/x-python",
   "name": "python",
   "nbconvert_exporter": "python",
   "pygments_lexer": "ipython3",
   "version": "3.9.12"
  },
  "vscode": {
   "interpreter": {
    "hash": "a141e979f47d0321f552a3a7e629b4f252c2696d405db34dd45befa51abe3df3"
   }
  }
 },
 "nbformat": 4,
 "nbformat_minor": 5
}
